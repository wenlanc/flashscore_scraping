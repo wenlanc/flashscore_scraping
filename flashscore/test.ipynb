{
 "metadata": {
  "language_info": {
   "codemirror_mode": {
    "name": "ipython",
    "version": 3
   },
   "file_extension": ".py",
   "mimetype": "text/x-python",
   "name": "python",
   "nbconvert_exporter": "python",
   "pygments_lexer": "ipython3",
   "version": "3.8.5-final"
  },
  "orig_nbformat": 2,
  "kernelspec": {
   "name": "python3",
   "display_name": "Python 3.8.5 64-bit ('spider': conda)",
   "metadata": {
    "interpreter": {
     "hash": "c3fba5aa32bcf018f68a50b958305a3a9235a64bcd3b5a01970c664b6ffa5db5"
    }
   }
  }
 },
 "nbformat": 4,
 "nbformat_minor": 2,
 "cells": [
  {
   "cell_type": "code",
   "execution_count": 15,
   "metadata": {},
   "outputs": [
    {
     "output_type": "stream",
     "name": "stdout",
     "text": [
      "0 Argentina Liga Professional https://www.flashscore.com/football/argentina/liga-profesional/archive https://www.flashscore.com/football/argentina/liga-professional/archive 2012 https://www.flashscore.com/football/argentina/liga-profesional-2012-2013/results\n"
     ]
    },
    {
     "output_type": "error",
     "ename": "AssertionError",
     "evalue": "",
     "traceback": [
      "\u001b[1;31m---------------------------------------------------------------------------\u001b[0m",
      "\u001b[1;31mAssertionError\u001b[0m                            Traceback (most recent call last)",
      "\u001b[1;32m<ipython-input-15-201e9bef25cc>\u001b[0m in \u001b[0;36m<module>\u001b[1;34m\u001b[0m\n\u001b[0;32m     22\u001b[0m     \u001b[0mnewLeagueLink\u001b[0m \u001b[1;33m=\u001b[0m \u001b[1;34m\"/\"\u001b[0m\u001b[1;33m.\u001b[0m\u001b[0mjoin\u001b[0m\u001b[1;33m(\u001b[0m\u001b[1;33m[\u001b[0m\u001b[0mdomain\u001b[0m\u001b[1;33m,\u001b[0m \u001b[0msportName\u001b[0m\u001b[1;33m.\u001b[0m\u001b[0mlower\u001b[0m\u001b[1;33m(\u001b[0m\u001b[1;33m)\u001b[0m\u001b[1;33m.\u001b[0m\u001b[0mreplace\u001b[0m\u001b[1;33m(\u001b[0m\u001b[1;34m\" \"\u001b[0m\u001b[1;33m,\u001b[0m \u001b[1;34m\"-\"\u001b[0m\u001b[1;33m)\u001b[0m\u001b[1;33m,\u001b[0m \u001b[0mcountry\u001b[0m\u001b[1;33m.\u001b[0m\u001b[0mlower\u001b[0m\u001b[1;33m(\u001b[0m\u001b[1;33m)\u001b[0m\u001b[1;33m.\u001b[0m\u001b[0mreplace\u001b[0m\u001b[1;33m(\u001b[0m\u001b[1;34m\" \"\u001b[0m\u001b[1;33m,\u001b[0m \u001b[1;34m\"-\"\u001b[0m\u001b[1;33m)\u001b[0m\u001b[1;33m,\u001b[0m \u001b[0mleagueName\u001b[0m\u001b[1;33m.\u001b[0m\u001b[0mlower\u001b[0m\u001b[1;33m(\u001b[0m\u001b[1;33m)\u001b[0m\u001b[1;33m.\u001b[0m\u001b[0mreplace\u001b[0m\u001b[1;33m(\u001b[0m\u001b[1;34m\" \"\u001b[0m\u001b[1;33m,\u001b[0m \u001b[1;34m\"-\"\u001b[0m\u001b[1;33m)\u001b[0m\u001b[1;33m,\u001b[0m \u001b[1;34m\"archive\"\u001b[0m\u001b[1;33m]\u001b[0m\u001b[1;33m)\u001b[0m\u001b[1;33m\u001b[0m\u001b[1;33m\u001b[0m\u001b[0m\n\u001b[0;32m     23\u001b[0m     \u001b[0mprint\u001b[0m\u001b[1;33m(\u001b[0m\u001b[0mindex\u001b[0m\u001b[1;33m,\u001b[0m \u001b[0mcountry\u001b[0m\u001b[1;33m,\u001b[0m \u001b[0mleagueName\u001b[0m\u001b[1;33m,\u001b[0m \u001b[0mleagueLink\u001b[0m\u001b[1;33m,\u001b[0m \u001b[0mnewLeagueLink\u001b[0m\u001b[1;33m,\u001b[0m \u001b[0mseason\u001b[0m\u001b[1;33m,\u001b[0m \u001b[0mseasonLink\u001b[0m\u001b[1;33m)\u001b[0m\u001b[1;33m\u001b[0m\u001b[1;33m\u001b[0m\u001b[0m\n\u001b[1;32m---> 24\u001b[1;33m     \u001b[1;32massert\u001b[0m\u001b[1;33m(\u001b[0m\u001b[0mnewLeagueLink\u001b[0m\u001b[1;33m==\u001b[0m\u001b[0mleagueLink\u001b[0m\u001b[1;33m)\u001b[0m\u001b[1;33m\u001b[0m\u001b[1;33m\u001b[0m\u001b[0m\n\u001b[0m\u001b[0;32m     25\u001b[0m \u001b[1;33m\u001b[0m\u001b[0m\n",
      "\u001b[1;31mAssertionError\u001b[0m: "
     ]
    }
   ],
   "source": [
    "import pandas as pd\n",
    "import openpyxl\n",
    "\n",
    "file_name=\"result/football.xlsx\"\n",
    "xl_file = pd.ExcelFile(file_name)\n",
    "dfs = xl_file.parse('LEAGUES')\n",
    "\n",
    "wb = openpyxl.load_workbook(file_name)\n",
    "ws = wb['LEAGUES']\n",
    "\n",
    "domain = \"https://www.flashscore.com\"\n",
    "sportName = \"football\"\n",
    "\n",
    "\n",
    "\n",
    "for index, row in dfs.iterrows():\n",
    "    country = row['Country']\n",
    "    leagueName = row['League Name']\n",
    "    season = row['Statistics season']\n",
    "    leagueLink = ws.cell(row=index+2, column=2).hyperlink.target.strip(\"/\")\n",
    "    seasonLink = ws.cell(row=index+2, column=3).hyperlink.target.strip(\"/\")\n",
    "    newLeagueLink = \"/\".join([domain, sportName.lower().replace(\" \", \"-\"), country.lower().replace(\" \", \"-\"), leagueName.lower().replace(\" \", \"-\"), \"archive\"])\n",
    "    print(index, country, leagueName, leagueLink, newLeagueLink, season, seasonLink)\n",
    "    assert(newLeagueLink==leagueLink)\n",
    "\n"
   ]
  },
  {
   "cell_type": "code",
   "execution_count": 57,
   "metadata": {},
   "outputs": [
    {
     "output_type": "stream",
     "name": "stdout",
     "text": [
      "0 s\n1 nan\n2 s\n3 nan\n4 nan\n5 nan\n6 nan\n7 nan\n8 nan\n9 nan\n10 nan\n11 nan\n12 nan\n13 nan\n14 nan\n15 s\n16 nan\n17 nan\n"
     ]
    }
   ],
   "source": [
    "import pandas as pd\n",
    "import openpyxl\n",
    "\n",
    "file_name=\"result/football.xlsx\"\n",
    "xl_file = pd.ExcelFile(file_name)\n",
    "dfs = xl_file.parse('MATCH STATISTICS', header=[0, 1])\n",
    "dfs.stack().reset_index()\n",
    "groupNames = dfs.columns.get_level_values(0).values\n",
    "columnNames = dfs.columns.get_level_values(1).values\n",
    "# print(groupNames, columnNames)\n",
    "dfs.add()\n",
    "\n",
    "for index, row in dfs.iterrows():\n",
    "    print(index, row[groupNames[0]][columnNames[0]])\n"
   ]
  },
  {
   "cell_type": "code",
   "execution_count": 16,
   "metadata": {},
   "outputs": [
    {
     "output_type": "stream",
     "name": "stdout",
     "text": [
      "<Worksheet \"SEASONS\">\n['Argentina', 'Liga Professional', '/football/argentina/liga-profesional/']\n['Argentina', 'Liga Professional', '/football/argentina/liga-profesional-2018-2019/']\n['x', 'x', 'x']\n['y', 'y', 'y']\n"
     ]
    }
   ],
   "source": [
    "import pandas as pd\n",
    "import openpyxl\n",
    "from urllib.parse import urlparse\n",
    "from openpyxl.utils.dataframe import dataframe_to_rows\n",
    "\n",
    "file_name=\"result\\\\football.xlsx\"\n",
    "wb = openpyxl.load_workbook(file_name)\n",
    "# ws = wb['SEASONS']\n",
    "\n",
    "seasons = [('Argentina', 'Liga Professional', '/football/argentina/liga-profesional/'), ('Argentina', 'Liga Professional', '/football/argentina/liga-profesional-2018-2019/'), (\"x\", \"x\", \"x\"), (\"y\", \"y\", \"y\")]\n",
    "\n",
    "# with pd.ExcelFile(file_name) as xls:\n",
    "#     print(xls.sheet_names)\n",
    "#     if 'SEASONS' in xls.sheet_names:\n",
    "#         pass\n",
    "#     else:\n",
    "#         df = pd.DataFrame(seasons, columns = ['Country', 'League Name', 'Season Link'])\n",
    "#         # df.to_excel(file_name, sheet_name='SEASONS', index=False)\n",
    "#         df.to_excel(xls, sheet_name='SEASONS', index=False)\n",
    "#         # wb = dfs.book\n",
    "#         # ws = wb.add_worksheet('SEASONS')\n",
    "\n",
    "if 'SEASONS' in wb.sheetnames:\n",
    "    ws = wb['SEASONS']\n",
    "    header = False\n",
    "else:\n",
    "    ws = wb.create_sheet('SEASONS')\n",
    "    header = True\n",
    "df = pd.DataFrame(seasons, columns = ['Country', 'League Name', 'Season Link'])\n",
    "\n",
    "print(ws)\n",
    "for row in dataframe_to_rows(df, index=False, header=header):\n",
    "    ws.append(row)\n",
    "\n",
    "# wb.save(file_name)"
   ]
  },
  {
   "cell_type": "code",
   "execution_count": null,
   "metadata": {},
   "outputs": [],
   "source": []
  }
 ]
}